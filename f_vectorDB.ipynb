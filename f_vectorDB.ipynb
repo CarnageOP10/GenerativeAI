{
 "cells": [
  {
   "cell_type": "markdown",
   "metadata": {},
   "source": [
    "Vector DB"
   ]
  },
  {
   "cell_type": "code",
   "execution_count": 1,
   "metadata": {},
   "outputs": [],
   "source": [
    "from langchain.document_loaders import PyPDFDirectoryLoader\n",
    "from langchain.text_splitter import RecursiveCharacterTextSplitter\n",
    "from langchain.embeddings import OpenAIEmbeddings\n",
    "from langchain.llms import OpenAI\n",
    "from langchain.vectorstores import Pinecone\n",
    "from langchain.chains import RetrievalQA\n",
    "from langchain.prompts import PromptTemplate\n",
    "import os"
   ]
  },
  {
   "cell_type": "code",
   "execution_count": 2,
   "metadata": {},
   "outputs": [],
   "source": [
    "!mkdir \"pdfs\""
   ]
  },
  {
   "cell_type": "code",
   "execution_count": 10,
   "metadata": {},
   "outputs": [],
   "source": [
    "loader = PyPDFDirectoryLoader(\"pdfs\")"
   ]
  },
  {
   "cell_type": "code",
   "execution_count": 12,
   "metadata": {},
   "outputs": [],
   "source": [
    "data = loader.load()"
   ]
  },
  {
   "cell_type": "code",
   "execution_count": 16,
   "metadata": {},
   "outputs": [],
   "source": [
    "textSplitter = RecursiveCharacterTextSplitter(chunk_size=500, chunk_overlap=20)"
   ]
  },
  {
   "cell_type": "code",
   "execution_count": 17,
   "metadata": {},
   "outputs": [],
   "source": [
    "text_chunks = textSplitter.split_documents(data)"
   ]
  },
  {
   "cell_type": "code",
   "execution_count": 18,
   "metadata": {},
   "outputs": [
    {
     "data": {
      "text/plain": [
       "[Document(metadata={'source': 'pdfs\\\\final.pdf', 'page': 0}, page_content='Department of Electronics and Communication Engineering \\nComplementary Metal-Oxide Semiconductor (CMOS) \\n \\nProject Title: Low Dropout Voltage regulator (LDO) and D Flip-Flop \\n \\n \\n \\nContents: \\n\\uf0b7 Definition \\n\\uf0b7 Diagram \\n\\uf0b7 Design \\n\\uf0b7 Working \\n\\uf0b7 Applications and advantages \\n\\uf0b7 Simulations \\n \\n \\n \\n \\nName: Parth Singh \\nRoll No: BT22ECI026 \\nSubject: CMOS \\nDate: 11th November, 2024 \\nSubmitted To: Dr. Paritosh Peshwe'),\n",
       " Document(metadata={'source': 'pdfs\\\\final.pdf', 'page': 1}, page_content='What is an LDO? \\nDefinition: \\nA Low Dropout Regulator (LDO) is a type of linear voltage regulator \\nthat can regulate the output voltage even when the input voltage is \\nvery close to the output voltage. The key feature of an LDO is its low \\ndropout voltage—the small difference between the input voltage and \\nthe output voltage required for proper regulation. \\nDropout voltage is defined as the minimum voltage difference \\nbetween the input and the output voltage at which the regulator can'),\n",
       " Document(metadata={'source': 'pdfs\\\\final.pdf', 'page': 1}, page_content='maintain a stable, regulated output. \\nFor example, if an LDO is designed to output 5V, and it has a dropout \\nvoltage of 0.3V, it can still regulate the output to 5V as long as the \\ninput voltage is at least 5.3V. \\n \\n \\nST730 LDO'),\n",
       " Document(metadata={'source': 'pdfs\\\\final.pdf', 'page': 2}, page_content='LDO Diagram \\nAn LDO Diagram is shown below: \\n \\n \\n1) Input Voltage (Vdd): The input voltage must be higher than the output by the dropout \\nvoltage (typically 0.1V to 2V) for proper regulation. \\n2) Dropout Voltage: The minimum voltage difference between input and output required for \\nthe LDO to function. \\n3) Output Voltage (V(Rload)): The LDO provides a stable, regulated voltage, despite changes \\nin input or load.'),\n",
       " Document(metadata={'source': 'pdfs\\\\final.pdf', 'page': 2}, page_content='in input or load. \\n4) Pass Element: A transistor controls current flow, adjusting resistance to maintain the \\noutput voltage. \\n5) Feedback Loop: Constantly monitors and adjusts the output to stay at the target voltage. \\n6) Quiescent Current (I_q): Current consumed by the LDO’s internal circuitry (excluding load \\ncurrent). \\n7) Load & Line Regulation: Ensures stable output voltage even with varying load current or \\ninput voltage (above dropout).'),\n",
       " Document(metadata={'source': 'pdfs\\\\final.pdf', 'page': 2}, page_content='8) Shutdown Pin: Some LDOs feature an optional pin to disable output, saving power. \\n9) Capacitors: External capacitors at input and output improve stability and reduce noise. \\n10)Efficiency: LDOs are simple and low-noise but less efficient than switching regulators due \\nto heat dissipation.'),\n",
       " Document(metadata={'source': 'pdfs\\\\final.pdf', 'page': 3}, page_content='Design of an LDO: \\n \\n \\nCore Components \\n\\uf0b7 M1-M2: Differential pair (CMOSN)          M3-M4: Current mirror load (CMOSP) \\n\\uf0b7 M5: Tail current transistor (CMOSN)       M6-M13: Error amplifier components (CMOSP) \\n\\uf0b7 M7-M8: Additional CMOSN transistors \\n\\uf0b7 C1: Compensation capacitor (3pf)           C2: Output capacitor (10µ) \\n\\uf0b7 R1: 210k resistor                                         R2: 120k resistor \\n1)  Input Stage'),\n",
       " Document(metadata={'source': 'pdfs\\\\final.pdf', 'page': 3}, page_content='1)  Input Stage  \\n\\uf0b7 M1 receives Vinn (reference voltage)                     M2 forms differential pair with M1 \\n\\uf0b7 M5 provides tail current for differential pair         M8 provides biasing current (1.5m) \\n2)  Current Mirror Load  \\n\\uf0b7 M3-M4 PMOS pair forms current mirror \\n\\uf0b7 Connected to VDD supply \\n\\uf0b7 Provides active load for differential stage \\n3)  Output Stage  \\n\\uf0b7 M6-M13 form output buffer                             M7 acts as pass transistor \\n\\uf0b7 C1 (3pf) provides frequency compensation'),\n",
       " Document(metadata={'source': 'pdfs\\\\final.pdf', 'page': 3}, page_content='\\uf0b7 Feedback through R1-R2 voltage divider'),\n",
       " Document(metadata={'source': 'pdfs\\\\final.pdf', 'page': 4}, page_content='Working of an LDO: \\nThe LDO voltage regulator operates through a sophisticated feedback \\ncontrol system. The circuit begins with a differential pair (M1-M2) \\nthat compares a reference voltage (Vinn) against a scaled version of \\nthe output voltage through the R1(210k)-R2(120k) feedback divider. \\nThis differential pair is biased by a 30μA current source and M8 \\nproviding 1.5mA bias current, with M5 acting as the tail current'),\n",
       " Document(metadata={'source': 'pdfs\\\\final.pdf', 'page': 4}, page_content=\"transistor. The error signal from this comparison is amplified through \\na PMOS current mirror load (M3-M4), which converts the differential \\nsignal to single-ended while providing active load gain. The amplified \\nerror signal then controls the main pass transistor M7, which acts as \\nthe voltage-controlling element. When the output voltage tries to \\nchange due to load or input variations, the feedback loop adjusts \\nM7's conductance to maintain a constant output voltage. Stability is\"),\n",
       " Document(metadata={'source': 'pdfs\\\\final.pdf', 'page': 4}, page_content=\"ensured through strategic frequency compensation, with C1 (3pf) \\nproviding phase margin and preventing oscillations, while C2 (10μF) \\nat the output filters ripple and improves transient response. The \\ncircuit also incorporates protection features through M13 for current \\nlimiting. The high-gain error amplifier, combined with the feedback \\nnetwork, achieves excellent line and load regulation while \\nmaintaining a low dropout voltage characteristic of M7's operation in\"),\n",
       " Document(metadata={'source': 'pdfs\\\\final.pdf', 'page': 4}, page_content='the linear region. The entire system responds rapidly to any \\ndisturbances, maintaining a stable, regulated output voltage across \\nvarying input voltages and load conditions.'),\n",
       " Document(metadata={'source': 'pdfs\\\\final.pdf', 'page': 5}, page_content='Applications: \\n\\uf0b7 Battery-Powered Devices: Powers smartphones and wearables \\nefficiently by reducing power loss. \\n\\uf0b7 RF and Analog Circuits: Provides clean, stable voltage to reduce \\nnoise in sensitive signal-processing circuits. \\n\\uf0b7 Medical Devices: Supplies consistent voltage to critical sensors \\nin portable health monitors. \\n\\uf0b7 Automotive Electronics: Stabilizes power for infotainment \\nsystems and control units in vehicles. \\n\\uf0b7 Industrial Sensors: Ensures reliable voltage for precise'),\n",
       " Document(metadata={'source': 'pdfs\\\\final.pdf', 'page': 5}, page_content='operation in factory automation and sensor networks. \\n \\n \\n \\nAdvantages: \\n\\uf0b7 Low Noise Output: Provides a clean, stable voltage, ideal for \\nnoise-sensitive applications like RF circuits. \\n\\uf0b7 Simple Design: Requires minimal external components, making \\nit easy to integrate into circuits. \\n\\uf0b7 Fast Response Time: Quickly reacts to changes in load or input \\nvoltage, ensuring stable operation. \\n\\uf0b7 Compact Size: Occupies little space, making it suitable for'),\n",
       " Document(metadata={'source': 'pdfs\\\\final.pdf', 'page': 5}, page_content='compact devices like wearables and smartphones. \\n\\uf0b7 Low Cost: Typically affordable, making them an economical \\nchoice for many low-power applications.'),\n",
       " Document(metadata={'source': 'pdfs\\\\final.pdf', 'page': 8}, page_content='What is a D Flip-Flop? \\nDefinition: \\nA D Flip-Flop (Data or Delay Flip-Flop) is a type of digital memory \\ncircuit, a basic building block of sequential logic circuits, that captures \\nand stores the value of its input (D) on the edge of a clock signal. It \\noutputs the stored value at its output (Q), and the value at Q only \\nchanges when the clock signal transitions (typically on the rising or \\nfalling edge of the clock). \\nThe D flip-flop essentially \"latches\" the input data, making it a'),\n",
       " Document(metadata={'source': 'pdfs\\\\final.pdf', 'page': 8}, page_content='temporary storage element for one bit of information. It is widely \\nused for data storage, synchronization, and building registers in \\nsequential systems.'),\n",
       " Document(metadata={'source': 'pdfs\\\\final.pdf', 'page': 9}, page_content='D Flip-Flop Diagram: \\n \\n\\uf0b7 Input Voltage (Vdd): The D flip-flop requires a supply voltage (Vdd) to power its \\ninternal circuitry. This voltage is typically specified by the logic family used (e.g., 3.3V \\nor 5V). \\n\\uf0b7 Clock: The clock input synchronizes the data capturing process. The D flip-flop \\ncaptures the data on the D (data) pin at a specific edge (either rising or falling) of the \\nclock signal. \\n\\uf0b7 Output (Q): The Q output holds the value of the data (D) input at the time of the last'),\n",
       " Document(metadata={'source': 'pdfs\\\\final.pdf', 'page': 9}, page_content=\"clock edge. This output remains stable until the next clock pulse or until the flip-flop \\nis reset or preset. \\n\\uf0b7 Inverted Output (Q'): The Q' output is the logical inverse of the Q output. It provides \\nthe opposite of whatever data is currently stored at Q. \\n\\uf0b7 Data Pin (D): The D pin is the data input for the flip-flop. The value on this pin is \\ncaptured and stored in the flip-flop when a clock pulse occurs. \\n\\uf0b7 Preset: The preset pin is an asynchronous input that forces the output (Q) to 1,\"),\n",
       " Document(metadata={'source': 'pdfs\\\\final.pdf', 'page': 9}, page_content='regardless of the clock or D input. It sets the flip-flop to a predetermined state. \\n\\uf0b7 Clear (CLR): The clear (CLR) pin is an asynchronous input that forces the output (Q) to \\n0, regardless of the clock or D input. It clears or resets the flip-flop. \\n\\uf0b7 Flip-Flop Operation: The D flip-flop is a type of sequential logic circuit that stores a \\nsingle bit of data. On the active edge of the clock, the data at the D input is \\ntransferred to the Q output.'),\n",
       " Document(metadata={'source': 'pdfs\\\\final.pdf', 'page': 9}, page_content='\\uf0b7 Setup and Hold Time: For the flip-flop to work correctly, the data on the D input \\nmust be stable for a certain period before and after the clock edge (setup and hold \\ntime). \\n\\uf0b7 Efficiency: D flip-flops are reliable for data storage in sequential circuits, but they \\nconsume power according to the switching frequency and load, with minimal \\nefficiency concerns for digital circuits.'),\n",
       " Document(metadata={'source': 'pdfs\\\\final.pdf', 'page': 10}, page_content='Design of a D Flip-Flop: \\n \\nCore Components: \\n\\uf0b7 4 NAND gates constructed using both PMOS and NMOS transistors \\n\\uf0b7 1 NOT gate (inverter) at the input \\n\\uf0b7 Each NAND gate contains:  \\no 2 PMOS transistors connected to Vdd (top) \\no 2 NMOS transistors connected to Vss (bottom) \\n1. Input Stage: \\n\\uf0b7 D input connected to inverter \\n\\uf0b7 First NAND gate receives inverted D and CLK inputs \\n\\uf0b7 Second NAND gate receives D and CLK inputs \\n2. Latch Stage: \\n\\uf0b7 Two cross-coupled NAND gates forming the latch'),\n",
       " Document(metadata={'source': 'pdfs\\\\final.pdf', 'page': 10}, page_content=\"\\uf0b7 Creates the stable storage element \\n\\uf0b7 Connected to the outputs of the input stage NAND gates \\n3. Output Stage: \\n\\uf0b7 Q (regular output)                 Q' (complementary output)  \\nPower Supply: \\n\\uf0b7 Vdd: Connected to all PMOS transistor sources \\n\\uf0b7 Vss: Connected to all NMOS transistor sources \\nSignal Connections: \\n\\uf0b7 Clock (CLK) signal distributed to both input NAND gates\"),\n",
       " Document(metadata={'source': 'pdfs\\\\final.pdf', 'page': 11}, page_content=\"\\uf0b7 Data (D) input connected through inverter to first NAND \\n\\uf0b7 Direct D connection to second NAND \\n \\nWorking of a D Flip-Flop: \\n \\nThe D flip-flop is a positive edge-triggered storage element that captures the state of the D \\ninput when the clock signal transitions from low to high (positive edge). The circuit uses a \\nmaster-slave configuration implemented using NAND gates. Let's break down its operation:\"),\n",
       " Document(metadata={'source': 'pdfs\\\\final.pdf', 'page': 11}, page_content='When CLK is low (0), the master stage is in \"sample mode\" while the slave stage holds the \\nprevious value. During this phase, the first pair of NAND gates (master stage) tracks the D \\ninput. The inverted D input feeds one NAND gate while the direct D input feeds the other, \\ncreating complementary signals. However, the slave stage is locked because the low clock \\nprevents any changes from propagating through. As CLK transitions from low to high'),\n",
       " Document(metadata={'source': 'pdfs\\\\final.pdf', 'page': 11}, page_content=\"(positive edge), the master stage locks the sampled value of D, and the slave stage becomes \\nactive. The locked value in the master stage transfers to the slave stage (the cross-coupled \\nNAND gates). These cross-coupled NAND gates form a latch that maintains a stable state \\nthrough positive feedback. The final outputs Q and Q' are complementary - when Q is high, \\nQ' is low and vice versa. This arrangement ensures that the flip-flop only changes state on\"),\n",
       " Document(metadata={'source': 'pdfs\\\\final.pdf', 'page': 11}, page_content=\"the clock's positive edge, providing synchronous operation. Once the slave stage captures \\nthe data, it holds this value stable until the next positive clock edge, regardless of any \\nchanges in the D input. This master-slave configuration prevents any unwanted data \\ntransitions (race conditions) and ensures reliable sequential operation in digital circuits. \\n \\nThe most critical timing parameters are: \\n- Setup time: D must be stable before the clock edge\"),\n",
       " Document(metadata={'source': 'pdfs\\\\final.pdf', 'page': 11}, page_content='- Hold time: D must remain stable after the clock edge \\n- Clock-to-Q delay: Time taken for the output to reflect the captured input \\n \\nThis implementation using NAND gates and the master-slave architecture provides good \\nnoise immunity and reliable operation, making it suitable for use in sequential digital \\ncircuits, registers, and other synchronous applications.')]"
      ]
     },
     "execution_count": 18,
     "metadata": {},
     "output_type": "execute_result"
    }
   ],
   "source": [
    "text_chunks"
   ]
  },
  {
   "cell_type": "code",
   "execution_count": 19,
   "metadata": {},
   "outputs": [
    {
     "data": {
      "text/plain": [
       "29"
      ]
     },
     "execution_count": 19,
     "metadata": {},
     "output_type": "execute_result"
    }
   ],
   "source": [
    "len(text_chunks)"
   ]
  },
  {
   "cell_type": "code",
   "execution_count": 20,
   "metadata": {},
   "outputs": [
    {
     "name": "stdout",
     "output_type": "stream",
     "text": [
      "Department of Electronics and Communication Engineering \n",
      "Complementary Metal-Oxide Semiconductor (CMOS) \n",
      " \n",
      "Project Title: Low Dropout Voltage regulator (LDO) and D Flip-Flop \n",
      " \n",
      " \n",
      " \n",
      "Contents: \n",
      " Definition \n",
      " Diagram \n",
      " Design \n",
      " Working \n",
      " Applications and advantages \n",
      " Simulations \n",
      " \n",
      " \n",
      " \n",
      " \n",
      "Name: Parth Singh \n",
      "Roll No: BT22ECI026 \n",
      "Subject: CMOS \n",
      "Date: 11th November, 2024 \n",
      "Submitted To: Dr. Paritosh Peshwe\n"
     ]
    }
   ],
   "source": [
    "print(text_chunks[0].page_content)"
   ]
  },
  {
   "cell_type": "code",
   "execution_count": 23,
   "metadata": {},
   "outputs": [],
   "source": [
    "import os\n",
    "os.environ[\"OPENAI_API_KEY\"]=\"\""
   ]
  },
  {
   "cell_type": "code",
   "execution_count": null,
   "metadata": {},
   "outputs": [],
   "source": [
    "embedding=OpenAIEmbeddings()"
   ]
  },
  {
   "cell_type": "code",
   "execution_count": null,
   "metadata": {},
   "outputs": [],
   "source": [
    "len(embedding.embed_query(\"How are you\"))"
   ]
  },
  {
   "cell_type": "code",
   "execution_count": null,
   "metadata": {},
   "outputs": [],
   "source": [
    "PINECONE_API_KEY = os.environ.get('PINECONE_API_KEY', 'ok')\n",
    "PINECONE_API_ENV = os.environ.get('PINECONE_API_ENV', 'gcp-starter')"
   ]
  },
  {
   "cell_type": "code",
   "execution_count": null,
   "metadata": {},
   "outputs": [],
   "source": [
    "import pinecone"
   ]
  },
  {
   "cell_type": "code",
   "execution_count": null,
   "metadata": {},
   "outputs": [],
   "source": [
    "pinecone.init( api_key=PINECONE_API_KEY,  # find at app.pinecone.io\n",
    "     environment=PINECONE_API_ENV  # next to api key in console\n",
    ")"
   ]
  },
  {
   "cell_type": "code",
   "execution_count": null,
   "metadata": {},
   "outputs": [],
   "source": [
    "index_name = \"testing\" "
   ]
  },
  {
   "cell_type": "code",
   "execution_count": null,
   "metadata": {},
   "outputs": [],
   "source": [
    "index = pinecone.Index('testing')"
   ]
  },
  {
   "cell_type": "markdown",
   "metadata": {},
   "source": [
    "create embeddingd for each chunk"
   ]
  },
  {
   "cell_type": "code",
   "execution_count": null,
   "metadata": {},
   "outputs": [],
   "source": [
    "docsearch = Pinecone.from_texts([t.page_content for t in text_chunks], embedding, index_name=index_name)"
   ]
  },
  {
   "cell_type": "code",
   "execution_count": null,
   "metadata": {},
   "outputs": [],
   "source": [
    "docsearch"
   ]
  },
  {
   "cell_type": "code",
   "execution_count": null,
   "metadata": {},
   "outputs": [],
   "source": [
    "query= \"YOLOv7 outperforms which models\""
   ]
  },
  {
   "cell_type": "code",
   "execution_count": null,
   "metadata": {},
   "outputs": [],
   "source": [
    "docs = docsearch.similarity_search(query)"
   ]
  },
  {
   "cell_type": "code",
   "execution_count": null,
   "metadata": {},
   "outputs": [],
   "source": [
    "docs"
   ]
  },
  {
   "cell_type": "code",
   "execution_count": null,
   "metadata": {},
   "outputs": [],
   "source": [
    "llm = OpenAI()"
   ]
  },
  {
   "cell_type": "code",
   "execution_count": null,
   "metadata": {},
   "outputs": [],
   "source": [
    "qa = RetrievalQA.from_chain_type(llm=llm, chain_type=\"stuff\", retriever=docsearch.as_retriever())\n"
   ]
  },
  {
   "cell_type": "code",
   "execution_count": null,
   "metadata": {},
   "outputs": [],
   "source": [
    "query = \"YOLOv7 outperforms which models\""
   ]
  },
  {
   "cell_type": "code",
   "execution_count": null,
   "metadata": {},
   "outputs": [],
   "source": [
    "qa.run(query)"
   ]
  },
  {
   "cell_type": "code",
   "execution_count": null,
   "metadata": {},
   "outputs": [],
   "source": [
    "import sys\n",
    "while True:\n",
    "  user_input = input(f\"Input Prompt: \")\n",
    "  if user_input == 'exit':\n",
    "    print('Exiting')\n",
    "    sys.exit()\n",
    "  if user_input == '':\n",
    "    continue\n",
    "  result = qa({'query': user_input})\n",
    "  print(f\"Answer: {result['result']}\")"
   ]
  },
  {
   "cell_type": "code",
   "execution_count": null,
   "metadata": {},
   "outputs": [],
   "source": []
  },
  {
   "cell_type": "code",
   "execution_count": null,
   "metadata": {},
   "outputs": [],
   "source": []
  },
  {
   "cell_type": "code",
   "execution_count": null,
   "metadata": {},
   "outputs": [],
   "source": []
  },
  {
   "cell_type": "code",
   "execution_count": null,
   "metadata": {},
   "outputs": [],
   "source": []
  }
 ],
 "metadata": {
  "kernelspec": {
   "display_name": "Python 3",
   "language": "python",
   "name": "python3"
  },
  "language_info": {
   "codemirror_mode": {
    "name": "ipython",
    "version": 3
   },
   "file_extension": ".py",
   "mimetype": "text/x-python",
   "name": "python",
   "nbconvert_exporter": "python",
   "pygments_lexer": "ipython3",
   "version": "3.11.6"
  }
 },
 "nbformat": 4,
 "nbformat_minor": 2
}
